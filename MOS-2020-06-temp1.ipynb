{
    "cells": [
        {
            "metadata": {},
            "cell_type": "markdown",
            "source": "<h1 align=right><font size = 2>Last Update on 7-Jun-2020 </font></h1>\n\n<h1 align=center><font size = 6>MOS SUMMARY REPORT - 2020 </font></h1>\n"
        },
        {
            "metadata": {},
            "cell_type": "markdown",
            "source": "<img src = \"https://drive.google.com/uc?export=view&id=1s8HGLgIfsnFqo4MrRScRrrtnZn45x9DB\" align=\"left\" width=90000>"
        },
        {
            "metadata": {},
            "cell_type": "markdown",
            "source": "<a id='id0'></a>\n## Table of Contents\n\n<div class=\"alert alert-block alert-info\" style=\"margin-top: 20px\">\n\n1. __Monthly Reports__ (Efficiency, Hours, Site, Training, Projects, Leaves and Occupancy Data)<br> \n1.1 [January](#id2)<br>\n1.2 Februrary <br>\n1.3 March <br>\n1.4 April <br>\n1.5 May <br>\n2. __Yearly Reports__ <br> \n</div>\n<hr>"
        },
        {
            "metadata": {},
            "cell_type": "code",
            "source": "#Importing required Libraries\n\nimport pandas as pd\nimport numpy as np\nimport datetime as dtf\n\nimport matplotlib as mpl\nimport matplotlib.pyplot as plt\nfrom calendar import monthrange\nimport calendar\n%matplotlib inline\n\nfrom IPython.display import HTML",
            "execution_count": 448,
            "outputs": []
        },
        {
            "metadata": {},
            "cell_type": "code",
            "source": "# Exporting CSV from Gdrive to Pandas Data Frame format\n\ncsv_path='https://drive.google.com/open?id=1T-LPVaN54hHb6WUUZXFYr4eCg5sQ9rrA'\ncsv_path=csv_path.replace('open','uc')+'&export=download'\ndfo=pd.read_csv(csv_path)\n\n\n# Extracting Due hours from CSV file as stated at the top\n\ndHrs_path='https://drive.google.com/open?id=1vbkCrkqUYil1nBbAJbKj2MXP0Ac0PV18'\ndHrs_path=dHrs_path.replace('open','uc')\ndHrs_path=dHrs_path+'&export=download'\ndf_mhrs=pd.read_csv(dHrs_path)\n#df_mhrs.head()\n",
            "execution_count": 450,
            "outputs": []
        },
        {
            "metadata": {},
            "cell_type": "markdown",
            "source": "---\n"
        }
    ],
    "metadata": {
        "kernelspec": {
            "name": "python3",
            "display_name": "Python 3.6",
            "language": "python"
        },
        "language_info": {
            "name": "python",
            "version": "3.6.9",
            "mimetype": "text/x-python",
            "codemirror_mode": {
                "name": "ipython",
                "version": 3
            },
            "pygments_lexer": "ipython3",
            "nbconvert_exporter": "python",
            "file_extension": ".py"
        }
    },
    "nbformat": 4,
    "nbformat_minor": 4
}